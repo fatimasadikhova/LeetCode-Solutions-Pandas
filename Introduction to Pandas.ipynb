{
 "cells": [
  {
   "cell_type": "code",
   "execution_count": null,
   "id": "42fe2d41-bd56-4c47-92c6-f3c8d900db24",
   "metadata": {},
   "outputs": [],
   "source": [
    "#Leetcode solutions - Introduction to Pandas 15 tasks"
   ]
  },
  {
   "cell_type": "code",
   "execution_count": null,
   "id": "de116ce0-9813-40ff-aa4f-ff01d1104c24",
   "metadata": {},
   "outputs": [],
   "source": [
    "#2877. Create a DataFrame from List\n",
    "import pandas as pd\n",
    "\n",
    "def createDataframe(student_data: List[List[int]]) -> pd.DataFrame:\n",
    "    return pd.DataFrame(student_data,columns=['student_id','age'])"
   ]
  },
  {
   "cell_type": "code",
   "execution_count": null,
   "id": "e3df3ef4-2740-44f5-83f4-878ccb92cb4c",
   "metadata": {},
   "outputs": [],
   "source": [
    "#2878. Get the Size of a DataFrame\n",
    "import pandas as pd\n",
    "\n",
    "def getDataframeSize(players: pd.DataFrame) -> List[int]:\n",
    "    return list(players.shape)"
   ]
  },
  {
   "cell_type": "code",
   "execution_count": null,
   "id": "21aac5f4-455c-48cb-89e9-15d996984130",
   "metadata": {},
   "outputs": [],
   "source": [
    "#2879. Display the First Three Rows\n",
    "import pandas as pd\n",
    "\n",
    "def selectFirstRows(employees: pd.DataFrame) -> pd.DataFrame:\n",
    "    return employees.loc[[0,1,2]]"
   ]
  },
  {
   "cell_type": "code",
   "execution_count": null,
   "id": "5af6e3fd-166e-48ee-bf14-9ef792f307a5",
   "metadata": {},
   "outputs": [],
   "source": [
    "#2880. Select Data\n",
    "import pandas as pd\n",
    "\n",
    "def selectData(students: pd.DataFrame) -> pd.DataFrame:\n",
    "    return students.loc[students['student_id'] == 101, ['name','age']]\n",
    "    "
   ]
  },
  {
   "cell_type": "code",
   "execution_count": null,
   "id": "62ebc825-bcc7-476a-887e-d6b95a2e5e72",
   "metadata": {},
   "outputs": [],
   "source": [
    "#2881\n",
    "import pandas as pd\n",
    "\n",
    "def createBonusColumn(employees: pd.DataFrame) -> pd.DataFrame:\n",
    "    employees['bonus'] = employees['salary']*2\n",
    "    return employees\n",
    "    "
   ]
  },
  {
   "cell_type": "code",
   "execution_count": null,
   "id": "ae6c3dad-0492-441a-8e7a-7f1aecda0f50",
   "metadata": {},
   "outputs": [],
   "source": [
    "#2882\n",
    "import pandas as pd\n",
    "\n",
    "def dropDuplicateEmails(customers: pd.DataFrame) -> pd.DataFrame:\n",
    "    customers = customers.drop_duplicates(subset=['email'])\n",
    "    return customers\n",
    "    "
   ]
  },
  {
   "cell_type": "code",
   "execution_count": null,
   "id": "8bce0e22-140a-4c7a-876e-c987a157ec85",
   "metadata": {},
   "outputs": [],
   "source": [
    "#2883\n",
    "import pandas as pd\n",
    "\n",
    "def dropMissingData(students: pd.DataFrame) -> pd.DataFrame:\n",
    "    students.dropna(subset = ['name'], inplace = True)\n",
    "    return students\n",
    "    "
   ]
  },
  {
   "cell_type": "code",
   "execution_count": null,
   "id": "b36e1625-23bc-4621-aa5b-37a3993e573f",
   "metadata": {},
   "outputs": [],
   "source": [
    "#2884\n",
    "import pandas as pd\n",
    "\n",
    "def modifySalaryColumn(employees: pd.DataFrame) -> pd.DataFrame:\n",
    "    employees['salary'] = employees['salary']*2\n",
    "    return employees"
   ]
  },
  {
   "cell_type": "code",
   "execution_count": null,
   "id": "8baeb2e5-affd-46cf-bd0f-5aef49abc241",
   "metadata": {},
   "outputs": [],
   "source": [
    "#2885\n",
    "import pandas as pd\n",
    "\n",
    "def renameColumns(students: pd.DataFrame) -> pd.DataFrame:\n",
    "    students.rename(columns = {'id': 'student_id','first': 'first_name', 'last': 'last_name', 'age': 'age_in_years'}, inplace = True)\n",
    "    return students"
   ]
  },
  {
   "cell_type": "code",
   "execution_count": null,
   "id": "7dd2439c-1f66-4117-89ce-2400661713d5",
   "metadata": {},
   "outputs": [],
   "source": [
    "#2886\n",
    "import pandas as pd\n",
    "\n",
    "def changeDatatype(students: pd.DataFrame) -> pd.DataFrame:\n",
    "    students['grade'] = students['grade'].astype(int)\n",
    "    return students"
   ]
  },
  {
   "cell_type": "code",
   "execution_count": null,
   "id": "d7746612-3760-4f6b-8287-f27bc5afe37a",
   "metadata": {},
   "outputs": [],
   "source": [
    "#2887\n",
    "import pandas as pd\n",
    "\n",
    "def fillMissingValues(products: pd.DataFrame) -> pd.DataFrame:\n",
    "    products.fillna({'quantity' :0}, inplace = True)\n",
    "    return products\n",
    "    "
   ]
  },
  {
   "cell_type": "code",
   "execution_count": null,
   "id": "a4b348c0-f5cb-466c-a4b0-6ea032694bc0",
   "metadata": {},
   "outputs": [],
   "source": [
    "#2888\n",
    "import pandas as pd\n",
    "\n",
    "def concatenateTables(df1: pd.DataFrame, df2: pd.DataFrame) -> pd.DataFrame:\n",
    "    return pd.concat([df1,df2])"
   ]
  },
  {
   "cell_type": "code",
   "execution_count": null,
   "id": "c8d750a9-bcb4-4e18-b3f2-cfc5c0d5b642",
   "metadata": {},
   "outputs": [],
   "source": [
    "#2889\n",
    "import pandas as pd\n",
    "\n",
    "def pivotTable(weather: pd.DataFrame) -> pd.DataFrame:\n",
    "    pivot_weather = weather.pivot(index='month',columns='city',values='temperature')\n",
    "    return pivot_weather"
   ]
  },
  {
   "cell_type": "code",
   "execution_count": null,
   "id": "768da95c-e806-4c1e-9d9b-fa2913fc15c2",
   "metadata": {},
   "outputs": [],
   "source": [
    "#2890\n",
    "import pandas as pd\n",
    "\n",
    "def meltTable(report: pd.DataFrame) -> pd.DataFrame:\n",
    "    report_melted = pd.melt (\n",
    "        report,\n",
    "        id_vars='product',    #deyismeyen sutun\n",
    "        var_name='quarter',  #unpivot olacaq sutunlarin adi\n",
    "        value_name='sales'    #deyerleri bu sutuna yazacaq\n",
    "    )\n",
    "    return report_melted\n"
   ]
  },
  {
   "cell_type": "code",
   "execution_count": null,
   "id": "67bae724-bced-4009-a371-71ff0ff17b84",
   "metadata": {},
   "outputs": [],
   "source": [
    "#2891\n",
    "import pandas as pd\n",
    "\n",
    "def findHeavyAnimals(animals: pd.DataFrame) -> pd.DataFrame:\n",
    "    animals = animals.sort_values(by='weight',ascending = False)\n",
    "    filtered_animals = animals[animals['weight']>100]['name']\n",
    "    return pd.DataFrame(filtered_animals)"
   ]
  }
 ],
 "metadata": {
  "kernelspec": {
   "display_name": "Python 3 (ipykernel)",
   "language": "python",
   "name": "python3"
  },
  "language_info": {
   "codemirror_mode": {
    "name": "ipython",
    "version": 3
   },
   "file_extension": ".py",
   "mimetype": "text/x-python",
   "name": "python",
   "nbconvert_exporter": "python",
   "pygments_lexer": "ipython3",
   "version": "3.12.4"
  }
 },
 "nbformat": 4,
 "nbformat_minor": 5
}
